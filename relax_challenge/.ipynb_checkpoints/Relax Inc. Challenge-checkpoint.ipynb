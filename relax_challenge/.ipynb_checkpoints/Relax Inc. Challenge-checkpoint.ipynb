{
 "cells": [
  {
   "cell_type": "markdown",
   "id": "e370f302",
   "metadata": {},
   "source": [
    "# Relax Inc. Challenge"
   ]
  },
  {
   "cell_type": "code",
   "execution_count": 1,
   "id": "df242578",
   "metadata": {},
   "outputs": [],
   "source": [
    "import warnings\n",
    "warnings.simplefilter('ignore')\n",
    "import pandas as pd\n",
    "import numpy as np\n",
    "from scipy.stats import ttest_ind\n",
    "import matplotlib.pyplot as plt\n",
    "import seaborn as sns\n",
    "import math"
   ]
  },
  {
   "cell_type": "code",
   "execution_count": 2,
   "id": "ab835b31",
   "metadata": {},
   "outputs": [],
   "source": [
    "users = pd.read_csv('takehome_users.csv', encoding='latin-1')\n",
    "engagement = pd.read_csv('takehome_user_engagement.csv', encoding='latin-1')"
   ]
  },
  {
   "cell_type": "code",
   "execution_count": 3,
   "id": "9f8a7aaa",
   "metadata": {},
   "outputs": [
    {
     "data": {
      "text/html": [
       "<div>\n",
       "<style scoped>\n",
       "    .dataframe tbody tr th:only-of-type {\n",
       "        vertical-align: middle;\n",
       "    }\n",
       "\n",
       "    .dataframe tbody tr th {\n",
       "        vertical-align: top;\n",
       "    }\n",
       "\n",
       "    .dataframe thead th {\n",
       "        text-align: right;\n",
       "    }\n",
       "</style>\n",
       "<table border=\"1\" class=\"dataframe\">\n",
       "  <thead>\n",
       "    <tr style=\"text-align: right;\">\n",
       "      <th></th>\n",
       "      <th>object_id</th>\n",
       "      <th>creation_time</th>\n",
       "      <th>name</th>\n",
       "      <th>email</th>\n",
       "      <th>creation_source</th>\n",
       "      <th>last_session_creation_time</th>\n",
       "      <th>opted_in_to_mailing_list</th>\n",
       "      <th>enabled_for_marketing_drip</th>\n",
       "      <th>org_id</th>\n",
       "      <th>invited_by_user_id</th>\n",
       "    </tr>\n",
       "  </thead>\n",
       "  <tbody>\n",
       "    <tr>\n",
       "      <th>0</th>\n",
       "      <td>1</td>\n",
       "      <td>2014-04-22 03:53:30</td>\n",
       "      <td>Clausen August</td>\n",
       "      <td>AugustCClausen@yahoo.com</td>\n",
       "      <td>GUEST_INVITE</td>\n",
       "      <td>1.398139e+09</td>\n",
       "      <td>1</td>\n",
       "      <td>0</td>\n",
       "      <td>11</td>\n",
       "      <td>10803.0</td>\n",
       "    </tr>\n",
       "    <tr>\n",
       "      <th>1</th>\n",
       "      <td>2</td>\n",
       "      <td>2013-11-15 03:45:04</td>\n",
       "      <td>Poole Matthew</td>\n",
       "      <td>MatthewPoole@gustr.com</td>\n",
       "      <td>ORG_INVITE</td>\n",
       "      <td>1.396238e+09</td>\n",
       "      <td>0</td>\n",
       "      <td>0</td>\n",
       "      <td>1</td>\n",
       "      <td>316.0</td>\n",
       "    </tr>\n",
       "    <tr>\n",
       "      <th>2</th>\n",
       "      <td>3</td>\n",
       "      <td>2013-03-19 23:14:52</td>\n",
       "      <td>Bottrill Mitchell</td>\n",
       "      <td>MitchellBottrill@gustr.com</td>\n",
       "      <td>ORG_INVITE</td>\n",
       "      <td>1.363735e+09</td>\n",
       "      <td>0</td>\n",
       "      <td>0</td>\n",
       "      <td>94</td>\n",
       "      <td>1525.0</td>\n",
       "    </tr>\n",
       "    <tr>\n",
       "      <th>3</th>\n",
       "      <td>4</td>\n",
       "      <td>2013-05-21 08:09:28</td>\n",
       "      <td>Clausen Nicklas</td>\n",
       "      <td>NicklasSClausen@yahoo.com</td>\n",
       "      <td>GUEST_INVITE</td>\n",
       "      <td>1.369210e+09</td>\n",
       "      <td>0</td>\n",
       "      <td>0</td>\n",
       "      <td>1</td>\n",
       "      <td>5151.0</td>\n",
       "    </tr>\n",
       "    <tr>\n",
       "      <th>4</th>\n",
       "      <td>5</td>\n",
       "      <td>2013-01-17 10:14:20</td>\n",
       "      <td>Raw Grace</td>\n",
       "      <td>GraceRaw@yahoo.com</td>\n",
       "      <td>GUEST_INVITE</td>\n",
       "      <td>1.358850e+09</td>\n",
       "      <td>0</td>\n",
       "      <td>0</td>\n",
       "      <td>193</td>\n",
       "      <td>5240.0</td>\n",
       "    </tr>\n",
       "  </tbody>\n",
       "</table>\n",
       "</div>"
      ],
      "text/plain": [
       "   object_id        creation_time               name  \\\n",
       "0          1  2014-04-22 03:53:30     Clausen August   \n",
       "1          2  2013-11-15 03:45:04      Poole Matthew   \n",
       "2          3  2013-03-19 23:14:52  Bottrill Mitchell   \n",
       "3          4  2013-05-21 08:09:28    Clausen Nicklas   \n",
       "4          5  2013-01-17 10:14:20          Raw Grace   \n",
       "\n",
       "                        email creation_source  last_session_creation_time  \\\n",
       "0    AugustCClausen@yahoo.com    GUEST_INVITE                1.398139e+09   \n",
       "1      MatthewPoole@gustr.com      ORG_INVITE                1.396238e+09   \n",
       "2  MitchellBottrill@gustr.com      ORG_INVITE                1.363735e+09   \n",
       "3   NicklasSClausen@yahoo.com    GUEST_INVITE                1.369210e+09   \n",
       "4          GraceRaw@yahoo.com    GUEST_INVITE                1.358850e+09   \n",
       "\n",
       "   opted_in_to_mailing_list  enabled_for_marketing_drip  org_id  \\\n",
       "0                         1                           0      11   \n",
       "1                         0                           0       1   \n",
       "2                         0                           0      94   \n",
       "3                         0                           0       1   \n",
       "4                         0                           0     193   \n",
       "\n",
       "   invited_by_user_id  \n",
       "0             10803.0  \n",
       "1               316.0  \n",
       "2              1525.0  \n",
       "3              5151.0  \n",
       "4              5240.0  "
      ]
     },
     "execution_count": 3,
     "metadata": {},
     "output_type": "execute_result"
    }
   ],
   "source": [
    "users.head()"
   ]
  },
  {
   "cell_type": "code",
   "execution_count": 4,
   "id": "55db2477",
   "metadata": {
    "scrolled": true
   },
   "outputs": [
    {
     "data": {
      "text/plain": [
       "object_id                       int64\n",
       "creation_time                  object\n",
       "name                           object\n",
       "email                          object\n",
       "creation_source                object\n",
       "last_session_creation_time    float64\n",
       "opted_in_to_mailing_list        int64\n",
       "enabled_for_marketing_drip      int64\n",
       "org_id                          int64\n",
       "invited_by_user_id            float64\n",
       "dtype: object"
      ]
     },
     "execution_count": 4,
     "metadata": {},
     "output_type": "execute_result"
    }
   ],
   "source": [
    "users.dtypes"
   ]
  },
  {
   "cell_type": "code",
   "execution_count": 5,
   "id": "efe0deaf",
   "metadata": {},
   "outputs": [
    {
     "data": {
      "text/html": [
       "<div>\n",
       "<style scoped>\n",
       "    .dataframe tbody tr th:only-of-type {\n",
       "        vertical-align: middle;\n",
       "    }\n",
       "\n",
       "    .dataframe tbody tr th {\n",
       "        vertical-align: top;\n",
       "    }\n",
       "\n",
       "    .dataframe thead th {\n",
       "        text-align: right;\n",
       "    }\n",
       "</style>\n",
       "<table border=\"1\" class=\"dataframe\">\n",
       "  <thead>\n",
       "    <tr style=\"text-align: right;\">\n",
       "      <th></th>\n",
       "      <th>time_stamp</th>\n",
       "      <th>user_id</th>\n",
       "      <th>visited</th>\n",
       "    </tr>\n",
       "  </thead>\n",
       "  <tbody>\n",
       "    <tr>\n",
       "      <th>0</th>\n",
       "      <td>2014-04-22 03:53:30</td>\n",
       "      <td>1</td>\n",
       "      <td>1</td>\n",
       "    </tr>\n",
       "    <tr>\n",
       "      <th>1</th>\n",
       "      <td>2013-11-15 03:45:04</td>\n",
       "      <td>2</td>\n",
       "      <td>1</td>\n",
       "    </tr>\n",
       "    <tr>\n",
       "      <th>2</th>\n",
       "      <td>2013-11-29 03:45:04</td>\n",
       "      <td>2</td>\n",
       "      <td>1</td>\n",
       "    </tr>\n",
       "    <tr>\n",
       "      <th>3</th>\n",
       "      <td>2013-12-09 03:45:04</td>\n",
       "      <td>2</td>\n",
       "      <td>1</td>\n",
       "    </tr>\n",
       "    <tr>\n",
       "      <th>4</th>\n",
       "      <td>2013-12-25 03:45:04</td>\n",
       "      <td>2</td>\n",
       "      <td>1</td>\n",
       "    </tr>\n",
       "  </tbody>\n",
       "</table>\n",
       "</div>"
      ],
      "text/plain": [
       "            time_stamp  user_id  visited\n",
       "0  2014-04-22 03:53:30        1        1\n",
       "1  2013-11-15 03:45:04        2        1\n",
       "2  2013-11-29 03:45:04        2        1\n",
       "3  2013-12-09 03:45:04        2        1\n",
       "4  2013-12-25 03:45:04        2        1"
      ]
     },
     "execution_count": 5,
     "metadata": {},
     "output_type": "execute_result"
    }
   ],
   "source": [
    "engagement.head()"
   ]
  },
  {
   "cell_type": "code",
   "execution_count": 6,
   "id": "94504959",
   "metadata": {},
   "outputs": [
    {
     "data": {
      "text/plain": [
       "time_stamp    object\n",
       "user_id        int64\n",
       "visited        int64\n",
       "dtype: object"
      ]
     },
     "execution_count": 6,
     "metadata": {},
     "output_type": "execute_result"
    }
   ],
   "source": [
    "engagement.dtypes"
   ]
  },
  {
   "cell_type": "code",
   "execution_count": 7,
   "id": "ea9e328f",
   "metadata": {},
   "outputs": [
    {
     "data": {
      "text/plain": [
       "1    207917\n",
       "Name: visited, dtype: int64"
      ]
     },
     "execution_count": 7,
     "metadata": {},
     "output_type": "execute_result"
    }
   ],
   "source": [
    "engagement['visited'].value_counts()"
   ]
  },
  {
   "cell_type": "markdown",
   "id": "950d3796",
   "metadata": {},
   "source": [
    "All of the values are one so let's drop that column"
   ]
  },
  {
   "cell_type": "code",
   "execution_count": 8,
   "id": "cbb81ea4",
   "metadata": {},
   "outputs": [],
   "source": [
    "engagement.drop(columns = ['visited'], inplace = True)"
   ]
  },
  {
   "cell_type": "markdown",
   "id": "9f690232",
   "metadata": {},
   "source": [
    "Let's also change the 'last_session_creation_time' to a datetime"
   ]
  },
  {
   "cell_type": "code",
   "execution_count": 9,
   "id": "933a00e4",
   "metadata": {},
   "outputs": [],
   "source": [
    "users['last_session_creation_time'] = pd.to_datetime(users['last_session_creation_time'], unit = 's')"
   ]
  },
  {
   "cell_type": "code",
   "execution_count": 10,
   "id": "11c5eddd",
   "metadata": {},
   "outputs": [
    {
     "data": {
      "text/plain": [
       "0   2014-04-22 03:53:30\n",
       "1   2014-03-31 03:45:04\n",
       "2   2013-03-19 23:14:52\n",
       "3   2013-05-22 08:09:28\n",
       "4   2013-01-22 10:14:20\n",
       "Name: last_session_creation_time, dtype: datetime64[ns]"
      ]
     },
     "execution_count": 10,
     "metadata": {},
     "output_type": "execute_result"
    }
   ],
   "source": [
    "users['last_session_creation_time'].head()"
   ]
  },
  {
   "cell_type": "markdown",
   "id": "789a7a6d",
   "metadata": {},
   "source": [
    "What about missing values?"
   ]
  },
  {
   "cell_type": "code",
   "execution_count": 11,
   "id": "6e1b90f7",
   "metadata": {},
   "outputs": [
    {
     "data": {
      "text/plain": [
       "object_id                        0\n",
       "creation_time                    0\n",
       "name                             0\n",
       "email                            0\n",
       "creation_source                  0\n",
       "last_session_creation_time    3177\n",
       "opted_in_to_mailing_list         0\n",
       "enabled_for_marketing_drip       0\n",
       "org_id                           0\n",
       "invited_by_user_id            5583\n",
       "dtype: int64"
      ]
     },
     "execution_count": 11,
     "metadata": {},
     "output_type": "execute_result"
    }
   ],
   "source": [
    "users.isna().sum()"
   ]
  },
  {
   "cell_type": "code",
   "execution_count": 12,
   "id": "3c264c6a",
   "metadata": {},
   "outputs": [
    {
     "data": {
      "text/plain": [
       "time_stamp    0\n",
       "user_id       0\n",
       "dtype: int64"
      ]
     },
     "execution_count": 12,
     "metadata": {},
     "output_type": "execute_result"
    }
   ],
   "source": [
    "engagement.isna().sum()"
   ]
  },
  {
   "cell_type": "markdown",
   "id": "8af1b154",
   "metadata": {},
   "source": [
    "Because we aren't using the data for modeling (yet), we weren't worry about filling in or dropping missing values. It is good to know where they are, however."
   ]
  },
  {
   "cell_type": "markdown",
   "id": "f9304b1a",
   "metadata": {},
   "source": [
    "We now need to determine which of the 12,000 users are considered 'adopted', i.e. they logged in on three seperate days within any seven day period."
   ]
  },
  {
   "cell_type": "code",
   "execution_count": 13,
   "id": "7d45a3bd",
   "metadata": {},
   "outputs": [
    {
     "data": {
      "text/plain": [
       "8823"
      ]
     },
     "execution_count": 13,
     "metadata": {},
     "output_type": "execute_result"
    }
   ],
   "source": [
    "engagement['user_id'].nunique()"
   ]
  },
  {
   "cell_type": "code",
   "execution_count": 14,
   "id": "9cc3decd",
   "metadata": {},
   "outputs": [
    {
     "data": {
      "text/plain": [
       "12000"
      ]
     },
     "execution_count": 14,
     "metadata": {},
     "output_type": "execute_result"
    }
   ],
   "source": [
    "users['object_id'].nunique()"
   ]
  },
  {
   "cell_type": "markdown",
   "id": "c849299c",
   "metadata": {},
   "source": [
    "The first thing to notice is that we are missing about 3000 users from the engagement dataset, so that's already 3000 users that were certainly not adopted."
   ]
  },
  {
   "cell_type": "code",
   "execution_count": 15,
   "id": "af4b9b38",
   "metadata": {},
   "outputs": [],
   "source": [
    "def isAdopted(user):\n",
    "    user_logins = pd.to_datetime(engagement[engagement['user_id'] == user]['time_stamp']).dt.date\n",
    "    if len(user_logins) < 3:\n",
    "        return 0\n",
    "    user_logins.sort_values(ignore_index = True, inplace = True)\n",
    "    diffs = user_logins.diff()\n",
    "    for idx in range(1, len(diffs[1:]) - 1):\n",
    "        if ((diffs[idx] + diffs[idx + 1]) <= pd.Timedelta('7 days')):\n",
    "            return 1"
   ]
  },
  {
   "cell_type": "code",
   "execution_count": 16,
   "id": "93e2ac9e",
   "metadata": {},
   "outputs": [],
   "source": [
    "adopted = []\n",
    "for idx in range(users.shape[0]):\n",
    "    adopted.append(isAdopted(idx + 1))"
   ]
  },
  {
   "cell_type": "code",
   "execution_count": 17,
   "id": "be61f333",
   "metadata": {},
   "outputs": [],
   "source": [
    "users['adopted'] = adopted"
   ]
  },
  {
   "cell_type": "code",
   "execution_count": 18,
   "id": "8d2ea7ce",
   "metadata": {
    "scrolled": true
   },
   "outputs": [
    {
     "data": {
      "text/plain": [
       "1606.0"
      ]
     },
     "execution_count": 18,
     "metadata": {},
     "output_type": "execute_result"
    }
   ],
   "source": [
    "users['adopted'].sum()"
   ]
  },
  {
   "cell_type": "code",
   "execution_count": 19,
   "id": "a4a60a30",
   "metadata": {},
   "outputs": [
    {
     "data": {
      "text/plain": [
       "0.13383333333333333"
      ]
     },
     "execution_count": 19,
     "metadata": {},
     "output_type": "execute_result"
    }
   ],
   "source": [
    "users['adopted'].sum() / users.shape[0]"
   ]
  },
  {
   "cell_type": "markdown",
   "id": "2698f965",
   "metadata": {},
   "source": [
    "About 13% of the users can be considered adopted"
   ]
  },
  {
   "cell_type": "code",
   "execution_count": 20,
   "id": "725c19cf",
   "metadata": {},
   "outputs": [],
   "source": [
    "adopted_users = users[users['adopted'] == 1]\n",
    "notAdopted_users = users[users['adopted'] == 0]"
   ]
  },
  {
   "cell_type": "code",
   "execution_count": 21,
   "id": "32bdf685",
   "metadata": {},
   "outputs": [
    {
     "data": {
      "text/html": [
       "<div>\n",
       "<style scoped>\n",
       "    .dataframe tbody tr th:only-of-type {\n",
       "        vertical-align: middle;\n",
       "    }\n",
       "\n",
       "    .dataframe tbody tr th {\n",
       "        vertical-align: top;\n",
       "    }\n",
       "\n",
       "    .dataframe thead th {\n",
       "        text-align: right;\n",
       "    }\n",
       "</style>\n",
       "<table border=\"1\" class=\"dataframe\">\n",
       "  <thead>\n",
       "    <tr style=\"text-align: right;\">\n",
       "      <th></th>\n",
       "      <th>object_id</th>\n",
       "      <th>opted_in_to_mailing_list</th>\n",
       "      <th>enabled_for_marketing_drip</th>\n",
       "      <th>org_id</th>\n",
       "      <th>invited_by_user_id</th>\n",
       "      <th>adopted</th>\n",
       "    </tr>\n",
       "  </thead>\n",
       "  <tbody>\n",
       "    <tr>\n",
       "      <th>count</th>\n",
       "      <td>1606.000000</td>\n",
       "      <td>1606.000000</td>\n",
       "      <td>1606.000000</td>\n",
       "      <td>1606.000000</td>\n",
       "      <td>917.000000</td>\n",
       "      <td>1606.0</td>\n",
       "    </tr>\n",
       "    <tr>\n",
       "      <th>mean</th>\n",
       "      <td>6043.691158</td>\n",
       "      <td>0.259651</td>\n",
       "      <td>0.155666</td>\n",
       "      <td>162.653176</td>\n",
       "      <td>5954.478735</td>\n",
       "      <td>1.0</td>\n",
       "    </tr>\n",
       "    <tr>\n",
       "      <th>std</th>\n",
       "      <td>3477.553247</td>\n",
       "      <td>0.438580</td>\n",
       "      <td>0.362652</td>\n",
       "      <td>123.028300</td>\n",
       "      <td>3341.354112</td>\n",
       "      <td>0.0</td>\n",
       "    </tr>\n",
       "    <tr>\n",
       "      <th>min</th>\n",
       "      <td>2.000000</td>\n",
       "      <td>0.000000</td>\n",
       "      <td>0.000000</td>\n",
       "      <td>0.000000</td>\n",
       "      <td>29.000000</td>\n",
       "      <td>1.0</td>\n",
       "    </tr>\n",
       "    <tr>\n",
       "      <th>25%</th>\n",
       "      <td>3068.000000</td>\n",
       "      <td>0.000000</td>\n",
       "      <td>0.000000</td>\n",
       "      <td>53.000000</td>\n",
       "      <td>3082.000000</td>\n",
       "      <td>1.0</td>\n",
       "    </tr>\n",
       "    <tr>\n",
       "      <th>50%</th>\n",
       "      <td>6047.000000</td>\n",
       "      <td>0.000000</td>\n",
       "      <td>0.000000</td>\n",
       "      <td>140.500000</td>\n",
       "      <td>6028.000000</td>\n",
       "      <td>1.0</td>\n",
       "    </tr>\n",
       "    <tr>\n",
       "      <th>75%</th>\n",
       "      <td>9106.250000</td>\n",
       "      <td>1.000000</td>\n",
       "      <td>0.000000</td>\n",
       "      <td>264.750000</td>\n",
       "      <td>8740.000000</td>\n",
       "      <td>1.0</td>\n",
       "    </tr>\n",
       "    <tr>\n",
       "      <th>max</th>\n",
       "      <td>11988.000000</td>\n",
       "      <td>1.000000</td>\n",
       "      <td>1.000000</td>\n",
       "      <td>415.000000</td>\n",
       "      <td>11973.000000</td>\n",
       "      <td>1.0</td>\n",
       "    </tr>\n",
       "  </tbody>\n",
       "</table>\n",
       "</div>"
      ],
      "text/plain": [
       "          object_id  opted_in_to_mailing_list  enabled_for_marketing_drip  \\\n",
       "count   1606.000000               1606.000000                 1606.000000   \n",
       "mean    6043.691158                  0.259651                    0.155666   \n",
       "std     3477.553247                  0.438580                    0.362652   \n",
       "min        2.000000                  0.000000                    0.000000   \n",
       "25%     3068.000000                  0.000000                    0.000000   \n",
       "50%     6047.000000                  0.000000                    0.000000   \n",
       "75%     9106.250000                  1.000000                    0.000000   \n",
       "max    11988.000000                  1.000000                    1.000000   \n",
       "\n",
       "            org_id  invited_by_user_id  adopted  \n",
       "count  1606.000000          917.000000   1606.0  \n",
       "mean    162.653176         5954.478735      1.0  \n",
       "std     123.028300         3341.354112      0.0  \n",
       "min       0.000000           29.000000      1.0  \n",
       "25%      53.000000         3082.000000      1.0  \n",
       "50%     140.500000         6028.000000      1.0  \n",
       "75%     264.750000         8740.000000      1.0  \n",
       "max     415.000000        11973.000000      1.0  "
      ]
     },
     "execution_count": 21,
     "metadata": {},
     "output_type": "execute_result"
    }
   ],
   "source": [
    "adopted_users.describe()"
   ]
  },
  {
   "cell_type": "code",
   "execution_count": 22,
   "id": "5a6db4bc",
   "metadata": {},
   "outputs": [
    {
     "data": {
      "text/html": [
       "<div>\n",
       "<style scoped>\n",
       "    .dataframe tbody tr th:only-of-type {\n",
       "        vertical-align: middle;\n",
       "    }\n",
       "\n",
       "    .dataframe tbody tr th {\n",
       "        vertical-align: top;\n",
       "    }\n",
       "\n",
       "    .dataframe thead th {\n",
       "        text-align: right;\n",
       "    }\n",
       "</style>\n",
       "<table border=\"1\" class=\"dataframe\">\n",
       "  <thead>\n",
       "    <tr style=\"text-align: right;\">\n",
       "      <th></th>\n",
       "      <th>object_id</th>\n",
       "      <th>opted_in_to_mailing_list</th>\n",
       "      <th>enabled_for_marketing_drip</th>\n",
       "      <th>org_id</th>\n",
       "      <th>invited_by_user_id</th>\n",
       "      <th>adopted</th>\n",
       "    </tr>\n",
       "  </thead>\n",
       "  <tbody>\n",
       "    <tr>\n",
       "      <th>count</th>\n",
       "      <td>9752.000000</td>\n",
       "      <td>9752.000000</td>\n",
       "      <td>9752.000000</td>\n",
       "      <td>9752.000000</td>\n",
       "      <td>5132.000000</td>\n",
       "      <td>9752.0</td>\n",
       "    </tr>\n",
       "    <tr>\n",
       "      <th>mean</th>\n",
       "      <td>5990.192678</td>\n",
       "      <td>0.247744</td>\n",
       "      <td>0.148072</td>\n",
       "      <td>137.334906</td>\n",
       "      <td>5953.046181</td>\n",
       "      <td>0.0</td>\n",
       "    </tr>\n",
       "    <tr>\n",
       "      <th>std</th>\n",
       "      <td>3463.013831</td>\n",
       "      <td>0.431725</td>\n",
       "      <td>0.355190</td>\n",
       "      <td>123.955826</td>\n",
       "      <td>3394.163242</td>\n",
       "      <td>0.0</td>\n",
       "    </tr>\n",
       "    <tr>\n",
       "      <th>min</th>\n",
       "      <td>1.000000</td>\n",
       "      <td>0.000000</td>\n",
       "      <td>0.000000</td>\n",
       "      <td>0.000000</td>\n",
       "      <td>3.000000</td>\n",
       "      <td>0.0</td>\n",
       "    </tr>\n",
       "    <tr>\n",
       "      <th>25%</th>\n",
       "      <td>2977.750000</td>\n",
       "      <td>0.000000</td>\n",
       "      <td>0.000000</td>\n",
       "      <td>25.000000</td>\n",
       "      <td>3012.500000</td>\n",
       "      <td>0.0</td>\n",
       "    </tr>\n",
       "    <tr>\n",
       "      <th>50%</th>\n",
       "      <td>5987.500000</td>\n",
       "      <td>0.000000</td>\n",
       "      <td>0.000000</td>\n",
       "      <td>101.000000</td>\n",
       "      <td>5942.000000</td>\n",
       "      <td>0.0</td>\n",
       "    </tr>\n",
       "    <tr>\n",
       "      <th>75%</th>\n",
       "      <td>8980.250000</td>\n",
       "      <td>0.000000</td>\n",
       "      <td>0.000000</td>\n",
       "      <td>232.000000</td>\n",
       "      <td>8820.250000</td>\n",
       "      <td>0.0</td>\n",
       "    </tr>\n",
       "    <tr>\n",
       "      <th>max</th>\n",
       "      <td>12000.000000</td>\n",
       "      <td>1.000000</td>\n",
       "      <td>1.000000</td>\n",
       "      <td>416.000000</td>\n",
       "      <td>11999.000000</td>\n",
       "      <td>0.0</td>\n",
       "    </tr>\n",
       "  </tbody>\n",
       "</table>\n",
       "</div>"
      ],
      "text/plain": [
       "          object_id  opted_in_to_mailing_list  enabled_for_marketing_drip  \\\n",
       "count   9752.000000               9752.000000                 9752.000000   \n",
       "mean    5990.192678                  0.247744                    0.148072   \n",
       "std     3463.013831                  0.431725                    0.355190   \n",
       "min        1.000000                  0.000000                    0.000000   \n",
       "25%     2977.750000                  0.000000                    0.000000   \n",
       "50%     5987.500000                  0.000000                    0.000000   \n",
       "75%     8980.250000                  0.000000                    0.000000   \n",
       "max    12000.000000                  1.000000                    1.000000   \n",
       "\n",
       "            org_id  invited_by_user_id  adopted  \n",
       "count  9752.000000         5132.000000   9752.0  \n",
       "mean    137.334906         5953.046181      0.0  \n",
       "std     123.955826         3394.163242      0.0  \n",
       "min       0.000000            3.000000      0.0  \n",
       "25%      25.000000         3012.500000      0.0  \n",
       "50%     101.000000         5942.000000      0.0  \n",
       "75%     232.000000         8820.250000      0.0  \n",
       "max     416.000000        11999.000000      0.0  "
      ]
     },
     "execution_count": 22,
     "metadata": {},
     "output_type": "execute_result"
    }
   ],
   "source": [
    "notAdopted_users.describe()"
   ]
  },
  {
   "cell_type": "markdown",
   "id": "9691e8a8",
   "metadata": {},
   "source": [
    "The adopted users are more likely to opt into the mailing list and are enabled for marketing drip. Let's do a T-test to see if this difference is significant."
   ]
  },
  {
   "cell_type": "code",
   "execution_count": 23,
   "id": "14f6e4e5",
   "metadata": {},
   "outputs": [
    {
     "data": {
      "text/plain": [
       "Ttest_indResult(statistic=1.0218648289430587, pvalue=0.3068666487146876)"
      ]
     },
     "execution_count": 23,
     "metadata": {},
     "output_type": "execute_result"
    }
   ],
   "source": [
    "ttest_ind(adopted_users['opted_in_to_mailing_list'], notAdopted_users['opted_in_to_mailing_list'])"
   ]
  },
  {
   "cell_type": "code",
   "execution_count": 24,
   "id": "2f631ba1",
   "metadata": {},
   "outputs": [
    {
     "data": {
      "text/plain": [
       "Ttest_indResult(statistic=0.7915588714905128, pvalue=0.42863446903745983)"
      ]
     },
     "execution_count": 24,
     "metadata": {},
     "output_type": "execute_result"
    }
   ],
   "source": [
    "ttest_ind(adopted_users['enabled_for_marketing_drip'], notAdopted_users['enabled_for_marketing_drip'])"
   ]
  },
  {
   "cell_type": "markdown",
   "id": "fb33850a",
   "metadata": {},
   "source": [
    "What about the creation source?"
   ]
  },
  {
   "cell_type": "code",
   "execution_count": 25,
   "id": "e05a25d8",
   "metadata": {},
   "outputs": [
    {
     "data": {
      "image/png": "[encoded data removed]",
      "text/plain": [
       "<Figure size 432x288 with 1 Axes>"
      ]
     },
     "metadata": {
      "needs_background": "light"
     },
     "output_type": "display_data"
    }
   ],
   "source": [
    "plt.bar(adopted_users['creation_source'].value_counts().index, adopted_users['creation_source'].value_counts(), 0.4, label = 'Adopted')\n",
    "\n",
    "plt.xlabel(\"Creation Source\")\n",
    "plt.ylabel(\"Number of Signups\")\n",
    "plt.title(\"Number of Signups by Creation Source\")\n",
    "plt.xticks(rotation=45)\n",
    "plt.show()"
   ]
  },
  {
   "cell_type": "code",
   "execution_count": 26,
   "id": "f327f265",
   "metadata": {},
   "outputs": [
    {
     "data": {
      "image/png": "[encoded data removed]",
      "text/plain": [
       "<Figure size 432x288 with 1 Axes>"
      ]
     },
     "metadata": {
      "needs_background": "light"
     },
     "output_type": "display_data"
    }
   ],
   "source": [
    "plt.bar(notAdopted_users['creation_source'].value_counts().index, notAdopted_users['creation_source'].value_counts(), 0.4, label = 'Adopted')\n",
    "\n",
    "plt.xlabel(\"Creation Source\")\n",
    "plt.ylabel(\"Number of Signups\")\n",
    "plt.title(\"Number of Signups by Creation Source\")\n",
    "plt.xticks(rotation=45)\n",
    "plt.show()"
   ]
  },
  {
   "cell_type": "markdown",
   "id": "e243a224",
   "metadata": {},
   "source": [
    "It seems that someone joining because of a personal project is a very good indicator that they will not become an adopted user. The opposite is true of guest invites, as they seem to be an indicator that someone will become an adopted user"
   ]
  },
  {
   "cell_type": "code",
   "execution_count": 27,
   "id": "311a745b",
   "metadata": {},
   "outputs": [
    {
     "data": {
      "text/plain": [
       "2354.0     4\n",
       "4019.0     3\n",
       "7107.0     3\n",
       "10163.0    3\n",
       "730.0      3\n",
       "          ..\n",
       "2998.0     1\n",
       "4497.0     1\n",
       "9764.0     1\n",
       "7024.0     1\n",
       "6647.0     1\n",
       "Name: invited_by_user_id, Length: 752, dtype: int64"
      ]
     },
     "execution_count": 27,
     "metadata": {},
     "output_type": "execute_result"
    }
   ],
   "source": [
    "adopted_users['invited_by_user_id'].value_counts()"
   ]
  },
  {
   "cell_type": "code",
   "execution_count": 28,
   "id": "98466d29",
   "metadata": {},
   "outputs": [
    {
     "data": {
      "text/plain": [
       "10741.0    12\n",
       "2308.0     10\n",
       "2527.0     10\n",
       "1525.0     10\n",
       "7698.0      9\n",
       "           ..\n",
       "7468.0      1\n",
       "1951.0      1\n",
       "2749.0      1\n",
       "1745.0      1\n",
       "5450.0      1\n",
       "Name: invited_by_user_id, Length: 2321, dtype: int64"
      ]
     },
     "execution_count": 28,
     "metadata": {},
     "output_type": "execute_result"
    }
   ],
   "source": [
    "notAdopted_users['invited_by_user_id'].value_counts()"
   ]
  },
  {
   "cell_type": "code",
   "execution_count": 29,
   "id": "b487838a",
   "metadata": {},
   "outputs": [
    {
     "data": {
      "text/plain": [
       "10803.0    2234\n",
       "316.0       331\n",
       "dtype: int64"
      ]
     },
     "execution_count": 29,
     "metadata": {},
     "output_type": "execute_result"
    }
   ],
   "source": [
    "inviting_users = users['invited_by_user_id'].unique()\n",
    "converting = []\n",
    "for user in inviting_users:\n",
    "    if user not in adopted_users['invited_by_user_id']:\n",
    "        converting.append(0)\n",
    "    else:\n",
    "        converting.append(1)\n",
    "pd.DataFrame(inviting_users[converting]).value_counts()"
   ]
  },
  {
   "cell_type": "markdown",
   "id": "48cbaf8f",
   "metadata": {},
   "source": [
    "There are two users that do a lot of inviting, however there invites never convert into adoptions. Let's look at the same thing for the org_id"
   ]
  },
  {
   "cell_type": "code",
   "execution_count": 30,
   "id": "8a2a722d",
   "metadata": {},
   "outputs": [
    {
     "data": {
      "text/plain": [
       "4      17\n",
       "7      16\n",
       "1      15\n",
       "2      14\n",
       "3      14\n",
       "       ..\n",
       "227     1\n",
       "323     1\n",
       "409     1\n",
       "294     1\n",
       "125     1\n",
       "Name: org_id, Length: 400, dtype: int64"
      ]
     },
     "execution_count": 30,
     "metadata": {},
     "output_type": "execute_result"
    }
   ],
   "source": [
    "adopted_users['org_id'].value_counts()"
   ]
  },
  {
   "cell_type": "code",
   "execution_count": 31,
   "id": "b4f46e2f",
   "metadata": {},
   "outputs": [
    {
     "data": {
      "text/plain": [
       "0      298\n",
       "1      213\n",
       "2      183\n",
       "3      151\n",
       "4      136\n",
       "      ... \n",
       "386      5\n",
       "395      5\n",
       "387      5\n",
       "352      4\n",
       "416      2\n",
       "Name: org_id, Length: 417, dtype: int64"
      ]
     },
     "execution_count": 31,
     "metadata": {},
     "output_type": "execute_result"
    }
   ],
   "source": [
    "notAdopted_users['org_id'].value_counts()"
   ]
  },
  {
   "cell_type": "code",
   "execution_count": 32,
   "id": "6c220e46",
   "metadata": {},
   "outputs": [
    {
     "data": {
      "text/plain": [
       "11    360\n",
       "1      57\n",
       "dtype: int64"
      ]
     },
     "execution_count": 32,
     "metadata": {},
     "output_type": "execute_result"
    }
   ],
   "source": [
    "orgs = users['org_id'].unique()\n",
    "converting = []\n",
    "for org in orgs:\n",
    "    if org not in adopted_users['org_id']:\n",
    "        converting.append(0)\n",
    "    else:\n",
    "        converting.append(1)\n",
    "pd.DataFrame(orgs[converting]).value_counts()"
   ]
  },
  {
   "cell_type": "markdown",
   "id": "dcf81657",
   "metadata": {},
   "source": [
    "It appears we have the same situation. There are two orgs that never convert to adoption. Between those two orgs and the two previously mentioned inviting users, that's nearly 3000 users that had an outcome that could have been predicted with just those four sources. There might also be some overlap in those groups, so the number could be less, but not by much."
   ]
  }
 ],
 "metadata": {
  "kernelspec": {
   "display_name": "Python 3 (ipykernel)",
   "language": "python",
   "name": "python3"
  },
  "language_info": {
   "codemirror_mode": {
    "name": "ipython",
    "version": 3
   },
   "file_extension": ".py",
   "mimetype": "text/x-python",
   "name": "python",
   "nbconvert_exporter": "python",
   "pygments_lexer": "ipython3",
   "version": "3.9.12"
  }
 },
 "nbformat": 4,
 "nbformat_minor": 5
}
