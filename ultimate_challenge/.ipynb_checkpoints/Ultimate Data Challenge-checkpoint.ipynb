{
 "cells": [
  {
   "cell_type": "markdown",
   "id": "e370f302",
   "metadata": {},
   "source": [
    "# Ultimate Data Challenge"
   ]
  },
  {
   "cell_type": "code",
   "execution_count": 1,
   "id": "cdd58333",
   "metadata": {},
   "outputs": [],
   "source": [
    "import warnings\n",
    "warnings.simplefilter('ignore')\n",
    "import pandas as pd\n",
    "import numpy as np\n",
    "import matplotlib.pyplot as plt\n",
    "import seaborn as sns\n",
    "from sklearn.preprocessing import scale, StandardScaler, MinMaxScaler\n",
    "from sklearn.decomposition import PCA\n",
    "from sklearn.dummy import DummyClassifier\n",
    "from sklearn.pipeline import make_pipeline, Pipeline\n",
    "from sklearn.ensemble import RandomForestClassifier\n",
    "from sklearn.model_selection import train_test_split, GridSearchCV, RandomizedSearchCV, cross_validate\n",
    "from sklearn.metrics import classification_report\n",
    "import math"
   ]
  },
  {
   "cell_type": "code",
   "execution_count": 2,
   "id": "3e67a357",
   "metadata": {},
   "outputs": [],
   "source": [
    "logins = pd.read_json('logins.json')\n",
    "retention = pd.read_json('ultimate_data_challenge.json')"
   ]
  },
  {
   "cell_type": "markdown",
   "id": "3e2d2d55",
   "metadata": {},
   "source": [
    "## PART 1"
   ]
  },
  {
   "cell_type": "markdown",
   "id": "b630ad05",
   "metadata": {},
   "source": [
    "I'll start by taking a look at the data"
   ]
  },
  {
   "cell_type": "code",
   "execution_count": 3,
   "id": "216ba3c2",
   "metadata": {},
   "outputs": [
    {
     "data": {
      "text/html": [
       "<div>\n",
       "<style scoped>\n",
       "    .dataframe tbody tr th:only-of-type {\n",
       "        vertical-align: middle;\n",
       "    }\n",
       "\n",
       "    .dataframe tbody tr th {\n",
       "        vertical-align: top;\n",
       "    }\n",
       "\n",
       "    .dataframe thead th {\n",
       "        text-align: right;\n",
       "    }\n",
       "</style>\n",
       "<table border=\"1\" class=\"dataframe\">\n",
       "  <thead>\n",
       "    <tr style=\"text-align: right;\">\n",
       "      <th></th>\n",
       "      <th>login_time</th>\n",
       "    </tr>\n",
       "  </thead>\n",
       "  <tbody>\n",
       "    <tr>\n",
       "      <th>0</th>\n",
       "      <td>1970-01-01 20:13:18</td>\n",
       "    </tr>\n",
       "    <tr>\n",
       "      <th>1</th>\n",
       "      <td>1970-01-01 20:16:10</td>\n",
       "    </tr>\n",
       "    <tr>\n",
       "      <th>2</th>\n",
       "      <td>1970-01-01 20:16:37</td>\n",
       "    </tr>\n",
       "    <tr>\n",
       "      <th>3</th>\n",
       "      <td>1970-01-01 20:16:36</td>\n",
       "    </tr>\n",
       "    <tr>\n",
       "      <th>4</th>\n",
       "      <td>1970-01-01 20:26:21</td>\n",
       "    </tr>\n",
       "  </tbody>\n",
       "</table>\n",
       "</div>"
      ],
      "text/plain": [
       "           login_time\n",
       "0 1970-01-01 20:13:18\n",
       "1 1970-01-01 20:16:10\n",
       "2 1970-01-01 20:16:37\n",
       "3 1970-01-01 20:16:36\n",
       "4 1970-01-01 20:26:21"
      ]
     },
     "execution_count": 3,
     "metadata": {},
     "output_type": "execute_result"
    }
   ],
   "source": [
    "logins.head()"
   ]
  },
  {
   "cell_type": "code",
   "execution_count": 4,
   "id": "194718df",
   "metadata": {},
   "outputs": [
    {
     "data": {
      "text/plain": [
       "(93142, 1)"
      ]
     },
     "execution_count": 4,
     "metadata": {},
     "output_type": "execute_result"
    }
   ],
   "source": [
    "logins.shape"
   ]
  },
  {
   "cell_type": "code",
   "execution_count": 5,
   "id": "9ccd6693",
   "metadata": {},
   "outputs": [
    {
     "data": {
      "text/plain": [
       "login_time    datetime64[ns]\n",
       "dtype: object"
      ]
     },
     "execution_count": 5,
     "metadata": {},
     "output_type": "execute_result"
    }
   ],
   "source": [
    "logins.dtypes"
   ]
  },
  {
   "cell_type": "markdown",
   "id": "ba7286d5",
   "metadata": {},
   "source": [
    "We have one column that's a datetime object, as expected. Are there any missing values?"
   ]
  },
  {
   "cell_type": "code",
   "execution_count": 6,
   "id": "3432897f",
   "metadata": {},
   "outputs": [
    {
     "data": {
      "text/plain": [
       "login_time    0\n",
       "dtype: int64"
      ]
     },
     "execution_count": 6,
     "metadata": {},
     "output_type": "execute_result"
    }
   ],
   "source": [
    "logins.isna().sum()"
   ]
  },
  {
   "cell_type": "markdown",
   "id": "ed19d3ce",
   "metadata": {},
   "source": [
    "No missing values. What's the range of time that this dataset covers?"
   ]
  },
  {
   "cell_type": "code",
   "execution_count": 7,
   "id": "17edd5d4",
   "metadata": {},
   "outputs": [
    {
     "data": {
      "text/plain": [
       "Timestamp('1970-01-01 20:12:16')"
      ]
     },
     "execution_count": 7,
     "metadata": {},
     "output_type": "execute_result"
    }
   ],
   "source": [
    "logins.login_time.min()"
   ]
  },
  {
   "cell_type": "code",
   "execution_count": 8,
   "id": "fe667e34",
   "metadata": {},
   "outputs": [
    {
     "data": {
      "text/plain": [
       "Timestamp('1970-04-13 18:57:38')"
      ]
     },
     "execution_count": 8,
     "metadata": {},
     "output_type": "execute_result"
    }
   ],
   "source": [
    "logins.login_time.max()"
   ]
  },
  {
   "cell_type": "markdown",
   "id": "42f7b935",
   "metadata": {},
   "source": [
    "About three and a half months. There doesn't seem to be any data quality issues with this set, so I'm now ready to aggregate the counts on fifteen minute intervals. To do this, I'll drop the date from the logins_date column, leaving only the time. Before that though, I'll round the column to the nearest 15 minutes"
   ]
  },
  {
   "cell_type": "code",
   "execution_count": 9,
   "id": "eb74ab50",
   "metadata": {},
   "outputs": [],
   "source": [
    "logins['login_time'] = logins['login_time'].dt.round('15min')"
   ]
  },
  {
   "cell_type": "code",
   "execution_count": 10,
   "id": "001ebc83",
   "metadata": {},
   "outputs": [],
   "source": [
    "logins['login_time'] = logins['login_time'].dt.time"
   ]
  },
  {
   "cell_type": "code",
   "execution_count": 11,
   "id": "09dfb357",
   "metadata": {},
   "outputs": [],
   "source": [
    "logins.sort_values('login_time', inplace = True)"
   ]
  },
  {
   "cell_type": "code",
   "execution_count": 12,
   "id": "f96051d3",
   "metadata": {},
   "outputs": [],
   "source": [
    "logins_agg = logins.groupby('login_time')['login_time'].count()"
   ]
  },
  {
   "cell_type": "code",
   "execution_count": 13,
   "id": "72072b5e",
   "metadata": {},
   "outputs": [
    {
     "data": {
      "text/plain": [
       "login_time\n",
       "00:00:00    1497\n",
       "00:15:00    1482\n",
       "00:30:00    1503\n",
       "00:45:00    1503\n",
       "01:00:00    1509\n",
       "Name: login_time, dtype: int64"
      ]
     },
     "execution_count": 13,
     "metadata": {},
     "output_type": "execute_result"
    }
   ],
   "source": [
    "logins_agg.head()"
   ]
  },
  {
   "cell_type": "code",
   "execution_count": 14,
   "id": "34386c5d",
   "metadata": {},
   "outputs": [],
   "source": [
    "counts = pd.DataFrame()"
   ]
  },
  {
   "cell_type": "code",
   "execution_count": 15,
   "id": "07a503fe",
   "metadata": {
    "scrolled": true
   },
   "outputs": [],
   "source": [
    "counts['Time'] = logins_agg.index"
   ]
  },
  {
   "cell_type": "code",
   "execution_count": 16,
   "id": "75bf9b70",
   "metadata": {},
   "outputs": [],
   "source": [
    "counts['counts'] = logins_agg.values"
   ]
  },
  {
   "cell_type": "code",
   "execution_count": 17,
   "id": "da3439ee",
   "metadata": {},
   "outputs": [
    {
     "data": {
      "text/html": [
       "<div>\n",
       "<style scoped>\n",
       "    .dataframe tbody tr th:only-of-type {\n",
       "        vertical-align: middle;\n",
       "    }\n",
       "\n",
       "    .dataframe tbody tr th {\n",
       "        vertical-align: top;\n",
       "    }\n",
       "\n",
       "    .dataframe thead th {\n",
       "        text-align: right;\n",
       "    }\n",
       "</style>\n",
       "<table border=\"1\" class=\"dataframe\">\n",
       "  <thead>\n",
       "    <tr style=\"text-align: right;\">\n",
       "      <th></th>\n",
       "      <th>Time</th>\n",
       "      <th>counts</th>\n",
       "    </tr>\n",
       "  </thead>\n",
       "  <tbody>\n",
       "    <tr>\n",
       "      <th>0</th>\n",
       "      <td>00:00:00</td>\n",
       "      <td>1497</td>\n",
       "    </tr>\n",
       "    <tr>\n",
       "      <th>1</th>\n",
       "      <td>00:15:00</td>\n",
       "      <td>1482</td>\n",
       "    </tr>\n",
       "    <tr>\n",
       "      <th>2</th>\n",
       "      <td>00:30:00</td>\n",
       "      <td>1503</td>\n",
       "    </tr>\n",
       "    <tr>\n",
       "      <th>3</th>\n",
       "      <td>00:45:00</td>\n",
       "      <td>1503</td>\n",
       "    </tr>\n",
       "    <tr>\n",
       "      <th>4</th>\n",
       "      <td>01:00:00</td>\n",
       "      <td>1509</td>\n",
       "    </tr>\n",
       "  </tbody>\n",
       "</table>\n",
       "</div>"
      ],
      "text/plain": [
       "       Time  counts\n",
       "0  00:00:00    1497\n",
       "1  00:15:00    1482\n",
       "2  00:30:00    1503\n",
       "3  00:45:00    1503\n",
       "4  01:00:00    1509"
      ]
     },
     "execution_count": 17,
     "metadata": {},
     "output_type": "execute_result"
    }
   ],
   "source": [
    "counts.head()"
   ]
  },
  {
   "cell_type": "markdown",
   "id": "66b4281c",
   "metadata": {},
   "source": [
    "Great! Now we can start investigating based on these counts."
   ]
  },
  {
   "cell_type": "code",
   "execution_count": 18,
   "id": "46d073f4",
   "metadata": {},
   "outputs": [
    {
     "data": {
      "text/plain": [
       "count      96.000000\n",
       "mean      970.229167\n",
       "std       455.844306\n",
       "min       178.000000\n",
       "25%       678.000000\n",
       "50%       922.500000\n",
       "75%      1419.250000\n",
       "max      1708.000000\n",
       "Name: counts, dtype: float64"
      ]
     },
     "execution_count": 18,
     "metadata": {},
     "output_type": "execute_result"
    }
   ],
   "source": [
    "counts['counts'].describe()"
   ]
  },
  {
   "cell_type": "code",
   "execution_count": 19,
   "id": "c1ef5974",
   "metadata": {},
   "outputs": [
    {
     "data": {
      "text/html": [
       "<div>\n",
       "<style scoped>\n",
       "    .dataframe tbody tr th:only-of-type {\n",
       "        vertical-align: middle;\n",
       "    }\n",
       "\n",
       "    .dataframe tbody tr th {\n",
       "        vertical-align: top;\n",
       "    }\n",
       "\n",
       "    .dataframe thead th {\n",
       "        text-align: right;\n",
       "    }\n",
       "</style>\n",
       "<table border=\"1\" class=\"dataframe\">\n",
       "  <thead>\n",
       "    <tr style=\"text-align: right;\">\n",
       "      <th></th>\n",
       "      <th>Time</th>\n",
       "      <th>counts</th>\n",
       "    </tr>\n",
       "  </thead>\n",
       "  <tbody>\n",
       "    <tr>\n",
       "      <th>31</th>\n",
       "      <td>07:45:00</td>\n",
       "      <td>178</td>\n",
       "    </tr>\n",
       "  </tbody>\n",
       "</table>\n",
       "</div>"
      ],
      "text/plain": [
       "        Time  counts\n",
       "31  07:45:00     178"
      ]
     },
     "execution_count": 19,
     "metadata": {},
     "output_type": "execute_result"
    }
   ],
   "source": [
    "counts[counts['counts'] == 178]"
   ]
  },
  {
   "cell_type": "code",
   "execution_count": 20,
   "id": "b49a4963",
   "metadata": {},
   "outputs": [
    {
     "data": {
      "text/html": [
       "<div>\n",
       "<style scoped>\n",
       "    .dataframe tbody tr th:only-of-type {\n",
       "        vertical-align: middle;\n",
       "    }\n",
       "\n",
       "    .dataframe tbody tr th {\n",
       "        vertical-align: top;\n",
       "    }\n",
       "\n",
       "    .dataframe thead th {\n",
       "        text-align: right;\n",
       "    }\n",
       "</style>\n",
       "<table border=\"1\" class=\"dataframe\">\n",
       "  <thead>\n",
       "    <tr style=\"text-align: right;\">\n",
       "      <th></th>\n",
       "      <th>Time</th>\n",
       "      <th>counts</th>\n",
       "    </tr>\n",
       "  </thead>\n",
       "  <tbody>\n",
       "    <tr>\n",
       "      <th>90</th>\n",
       "      <td>22:30:00</td>\n",
       "      <td>1708</td>\n",
       "    </tr>\n",
       "  </tbody>\n",
       "</table>\n",
       "</div>"
      ],
      "text/plain": [
       "        Time  counts\n",
       "90  22:30:00    1708"
      ]
     },
     "execution_count": 20,
     "metadata": {},
     "output_type": "execute_result"
    }
   ],
   "source": [
    "counts[counts['counts'] == 1708]"
   ]
  },
  {
   "cell_type": "markdown",
   "id": "3b11867c",
   "metadata": {},
   "source": [
    "The morning seems to be the worst time for logins, and nighttime the best. Let's see a graph that takes us through the day."
   ]
  },
  {
   "cell_type": "code",
   "execution_count": 21,
   "id": "5281a30f",
   "metadata": {},
   "outputs": [
    {
     "data": {
      "image/png": "[encoded data removed]",
      "text/plain": [
       "<Figure size 432x288 with 1 Axes>"
      ]
     },
     "metadata": {
      "needs_background": "light"
     },
     "output_type": "display_data"
    }
   ],
   "source": [
    "plt.plot(counts.index, counts['counts'])\n",
    "plt.title('Login Counts vs 15 Minute Interval of the Day')\n",
    "plt.xlabel('15 Minute Interval')\n",
    "plt.ylabel('Logins')\n",
    "plt.xticks(ticks = [0, 20, 40, 60, 80], labels = ['00:00', '05:00', '10:00', '15:00', '20:00'])\n",
    "plt.show()"
   ]
  },
  {
   "cell_type": "markdown",
   "id": "ff6c7c33",
   "metadata": {},
   "source": [
    "## PART 3"
   ]
  },
  {
   "cell_type": "markdown",
   "id": "0d18365f",
   "metadata": {},
   "source": [
    "The retention dataframe will now be used to build a model that can be used to predict user retention at the 6-month mark."
   ]
  },
  {
   "cell_type": "code",
   "execution_count": 22,
   "id": "5c6d737f",
   "metadata": {},
   "outputs": [
    {
     "data": {
      "text/html": [
       "<div>\n",
       "<style scoped>\n",
       "    .dataframe tbody tr th:only-of-type {\n",
       "        vertical-align: middle;\n",
       "    }\n",
       "\n",
       "    .dataframe tbody tr th {\n",
       "        vertical-align: top;\n",
       "    }\n",
       "\n",
       "    .dataframe thead th {\n",
       "        text-align: right;\n",
       "    }\n",
       "</style>\n",
       "<table border=\"1\" class=\"dataframe\">\n",
       "  <thead>\n",
       "    <tr style=\"text-align: right;\">\n",
       "      <th></th>\n",
       "      <th>city</th>\n",
       "      <th>trips_in_first_30_days</th>\n",
       "      <th>signup_date</th>\n",
       "      <th>avg_rating_of_driver</th>\n",
       "      <th>avg_surge</th>\n",
       "      <th>last_trip_date</th>\n",
       "      <th>phone</th>\n",
       "      <th>surge_pct</th>\n",
       "      <th>ultimate_black_user</th>\n",
       "      <th>weekday_pct</th>\n",
       "      <th>avg_dist</th>\n",
       "      <th>avg_rating_by_driver</th>\n",
       "    </tr>\n",
       "  </thead>\n",
       "  <tbody>\n",
       "    <tr>\n",
       "      <th>0</th>\n",
       "      <td>King's Landing</td>\n",
       "      <td>4</td>\n",
       "      <td>2014-01-25</td>\n",
       "      <td>4.7</td>\n",
       "      <td>1.10</td>\n",
       "      <td>2014-06-17</td>\n",
       "      <td>iPhone</td>\n",
       "      <td>15.4</td>\n",
       "      <td>True</td>\n",
       "      <td>46.2</td>\n",
       "      <td>3.67</td>\n",
       "      <td>5.0</td>\n",
       "    </tr>\n",
       "    <tr>\n",
       "      <th>1</th>\n",
       "      <td>Astapor</td>\n",
       "      <td>0</td>\n",
       "      <td>2014-01-29</td>\n",
       "      <td>5.0</td>\n",
       "      <td>1.00</td>\n",
       "      <td>2014-05-05</td>\n",
       "      <td>Android</td>\n",
       "      <td>0.0</td>\n",
       "      <td>False</td>\n",
       "      <td>50.0</td>\n",
       "      <td>8.26</td>\n",
       "      <td>5.0</td>\n",
       "    </tr>\n",
       "    <tr>\n",
       "      <th>2</th>\n",
       "      <td>Astapor</td>\n",
       "      <td>3</td>\n",
       "      <td>2014-01-06</td>\n",
       "      <td>4.3</td>\n",
       "      <td>1.00</td>\n",
       "      <td>2014-01-07</td>\n",
       "      <td>iPhone</td>\n",
       "      <td>0.0</td>\n",
       "      <td>False</td>\n",
       "      <td>100.0</td>\n",
       "      <td>0.77</td>\n",
       "      <td>5.0</td>\n",
       "    </tr>\n",
       "    <tr>\n",
       "      <th>3</th>\n",
       "      <td>King's Landing</td>\n",
       "      <td>9</td>\n",
       "      <td>2014-01-10</td>\n",
       "      <td>4.6</td>\n",
       "      <td>1.14</td>\n",
       "      <td>2014-06-29</td>\n",
       "      <td>iPhone</td>\n",
       "      <td>20.0</td>\n",
       "      <td>True</td>\n",
       "      <td>80.0</td>\n",
       "      <td>2.36</td>\n",
       "      <td>4.9</td>\n",
       "    </tr>\n",
       "    <tr>\n",
       "      <th>4</th>\n",
       "      <td>Winterfell</td>\n",
       "      <td>14</td>\n",
       "      <td>2014-01-27</td>\n",
       "      <td>4.4</td>\n",
       "      <td>1.19</td>\n",
       "      <td>2014-03-15</td>\n",
       "      <td>Android</td>\n",
       "      <td>11.8</td>\n",
       "      <td>False</td>\n",
       "      <td>82.4</td>\n",
       "      <td>3.13</td>\n",
       "      <td>4.9</td>\n",
       "    </tr>\n",
       "  </tbody>\n",
       "</table>\n",
       "</div>"
      ],
      "text/plain": [
       "             city  trips_in_first_30_days signup_date  avg_rating_of_driver  \\\n",
       "0  King's Landing                       4  2014-01-25                   4.7   \n",
       "1         Astapor                       0  2014-01-29                   5.0   \n",
       "2         Astapor                       3  2014-01-06                   4.3   \n",
       "3  King's Landing                       9  2014-01-10                   4.6   \n",
       "4      Winterfell                      14  2014-01-27                   4.4   \n",
       "\n",
       "   avg_surge last_trip_date    phone  surge_pct  ultimate_black_user  \\\n",
       "0       1.10     2014-06-17   iPhone       15.4                 True   \n",
       "1       1.00     2014-05-05  Android        0.0                False   \n",
       "2       1.00     2014-01-07   iPhone        0.0                False   \n",
       "3       1.14     2014-06-29   iPhone       20.0                 True   \n",
       "4       1.19     2014-03-15  Android       11.8                False   \n",
       "\n",
       "   weekday_pct  avg_dist  avg_rating_by_driver  \n",
       "0         46.2      3.67                   5.0  \n",
       "1         50.0      8.26                   5.0  \n",
       "2        100.0      0.77                   5.0  \n",
       "3         80.0      2.36                   4.9  \n",
       "4         82.4      3.13                   4.9  "
      ]
     },
     "execution_count": 22,
     "metadata": {},
     "output_type": "execute_result"
    }
   ],
   "source": [
    "retention.head()"
   ]
  },
  {
   "cell_type": "code",
   "execution_count": 23,
   "id": "939acf96",
   "metadata": {},
   "outputs": [
    {
     "data": {
      "text/plain": [
       "(50000, 12)"
      ]
     },
     "execution_count": 23,
     "metadata": {},
     "output_type": "execute_result"
    }
   ],
   "source": [
    "retention.shape"
   ]
  },
  {
   "cell_type": "code",
   "execution_count": 24,
   "id": "b708b586",
   "metadata": {},
   "outputs": [
    {
     "data": {
      "text/plain": [
       "city                       object\n",
       "trips_in_first_30_days      int64\n",
       "signup_date                object\n",
       "avg_rating_of_driver      float64\n",
       "avg_surge                 float64\n",
       "last_trip_date             object\n",
       "phone                      object\n",
       "surge_pct                 float64\n",
       "ultimate_black_user          bool\n",
       "weekday_pct               float64\n",
       "avg_dist                  float64\n",
       "avg_rating_by_driver      float64\n",
       "dtype: object"
      ]
     },
     "execution_count": 24,
     "metadata": {},
     "output_type": "execute_result"
    }
   ],
   "source": [
    "retention.dtypes"
   ]
  },
  {
   "cell_type": "markdown",
   "id": "327ca4b9",
   "metadata": {},
   "source": [
    "A user is considered retained if there were active in the last 30 days. So we need to figure out when that time period ends."
   ]
  },
  {
   "cell_type": "code",
   "execution_count": 25,
   "id": "87bfcee4",
   "metadata": {},
   "outputs": [
    {
     "data": {
      "text/plain": [
       "'2014-07-01'"
      ]
     },
     "execution_count": 25,
     "metadata": {},
     "output_type": "execute_result"
    }
   ],
   "source": [
    "retention['last_trip_date'].max()"
   ]
  },
  {
   "cell_type": "code",
   "execution_count": 26,
   "id": "2970e0e7",
   "metadata": {},
   "outputs": [
    {
     "data": {
      "text/plain": [
       "str"
      ]
     },
     "execution_count": 26,
     "metadata": {},
     "output_type": "execute_result"
    }
   ],
   "source": [
    "type(retention['last_trip_date'][0])"
   ]
  },
  {
   "cell_type": "markdown",
   "id": "a82fc4d3",
   "metadata": {},
   "source": [
    "So, if a rider took a trip between June 1 and July 1, then they are considered retained."
   ]
  },
  {
   "cell_type": "code",
   "execution_count": 27,
   "id": "07493540",
   "metadata": {},
   "outputs": [],
   "source": [
    "retention['last_trip_date'] = pd.to_datetime(retention['last_trip_date'])\n",
    "retention['signup_date'] = pd.to_datetime(retention['signup_date'])"
   ]
  },
  {
   "cell_type": "code",
   "execution_count": 28,
   "id": "b1a2a422",
   "metadata": {},
   "outputs": [],
   "source": [
    "retention['retained'] = retention['last_trip_date'].agg(\n",
    "    lambda x: 0 if x < pd.to_datetime('2014-06-01') else 1)"
   ]
  },
  {
   "cell_type": "code",
   "execution_count": 29,
   "id": "d329536b",
   "metadata": {},
   "outputs": [
    {
     "data": {
      "text/plain": [
       "18804"
      ]
     },
     "execution_count": 29,
     "metadata": {},
     "output_type": "execute_result"
    }
   ],
   "source": [
    "retention['retained'].sum()"
   ]
  },
  {
   "cell_type": "code",
   "execution_count": 30,
   "id": "1882a524",
   "metadata": {},
   "outputs": [
    {
     "data": {
      "text/plain": [
       "0.37608"
      ]
     },
     "execution_count": 30,
     "metadata": {},
     "output_type": "execute_result"
    }
   ],
   "source": [
    "retained_frac = 18804 / 50000\n",
    "retained_frac"
   ]
  },
  {
   "cell_type": "markdown",
   "id": "3c4f3044",
   "metadata": {},
   "source": [
    "About one-third of all signups from January 2014 were retained users. "
   ]
  },
  {
   "cell_type": "markdown",
   "id": "7e43a0af",
   "metadata": {},
   "source": [
    "Now, to build a model that can predict retention. First, cleaning."
   ]
  },
  {
   "cell_type": "code",
   "execution_count": 31,
   "id": "76dd1faf",
   "metadata": {},
   "outputs": [
    {
     "data": {
      "text/plain": [
       "city                         0\n",
       "trips_in_first_30_days       0\n",
       "signup_date                  0\n",
       "avg_rating_of_driver      8122\n",
       "avg_surge                    0\n",
       "last_trip_date               0\n",
       "phone                      396\n",
       "surge_pct                    0\n",
       "ultimate_black_user          0\n",
       "weekday_pct                  0\n",
       "avg_dist                     0\n",
       "avg_rating_by_driver       201\n",
       "retained                     0\n",
       "dtype: int64"
      ]
     },
     "execution_count": 31,
     "metadata": {},
     "output_type": "execute_result"
    }
   ],
   "source": [
    "retention.isna().sum()"
   ]
  },
  {
   "cell_type": "markdown",
   "id": "e066cdfc",
   "metadata": {},
   "source": [
    "Wow. Quite a lot of missing values from the avg_rating_of_driver column, around 20%. Phone and avg_rating_by_driver also have some missing values but not many. Let's look at these variables a little closer."
   ]
  },
  {
   "cell_type": "code",
   "execution_count": 32,
   "id": "3e497866",
   "metadata": {
    "scrolled": true
   },
   "outputs": [
    {
     "data": {
      "text/plain": [
       "5.0    20771\n",
       "4.0     4193\n",
       "4.5     2498\n",
       "4.8     2430\n",
       "4.7     1945\n",
       "4.9     1771\n",
       "4.3     1487\n",
       "4.6     1143\n",
       "3.0     1003\n",
       "4.4      829\n",
       "4.2      601\n",
       "3.5      488\n",
       "3.8      428\n",
       "4.1      398\n",
       "3.7      364\n",
       "1.0      256\n",
       "3.9      255\n",
       "2.0      209\n",
       "3.3      201\n",
       "3.6      172\n",
       "3.4      108\n",
       "2.5       94\n",
       "3.2       53\n",
       "2.7       47\n",
       "3.1       39\n",
       "2.8       28\n",
       "2.3       22\n",
       "2.9       13\n",
       "2.6       12\n",
       "2.1        6\n",
       "1.5        4\n",
       "2.4        3\n",
       "1.7        2\n",
       "1.8        2\n",
       "1.9        1\n",
       "1.6        1\n",
       "2.2        1\n",
       "Name: avg_rating_of_driver, dtype: int64"
      ]
     },
     "execution_count": 32,
     "metadata": {},
     "output_type": "execute_result"
    }
   ],
   "source": [
    "retention['avg_rating_of_driver'].value_counts()"
   ]
  },
  {
   "cell_type": "code",
   "execution_count": 33,
   "id": "11fb886d",
   "metadata": {},
   "outputs": [
    {
     "data": {
      "text/plain": [
       "iPhone     34582\n",
       "Android    15022\n",
       "Name: phone, dtype: int64"
      ]
     },
     "execution_count": 33,
     "metadata": {},
     "output_type": "execute_result"
    }
   ],
   "source": [
    "retention['phone'].value_counts()"
   ]
  },
  {
   "cell_type": "code",
   "execution_count": 34,
   "id": "da2e7e14",
   "metadata": {
    "scrolled": true
   },
   "outputs": [
    {
     "data": {
      "text/plain": [
       "5.0    28508\n",
       "4.8     4537\n",
       "4.7     3330\n",
       "4.9     3094\n",
       "4.5     2424\n",
       "4.6     2078\n",
       "4.0     1914\n",
       "4.3     1018\n",
       "4.4      860\n",
       "3.0      602\n",
       "4.2      342\n",
       "3.5      199\n",
       "3.7      195\n",
       "1.0      181\n",
       "2.0      126\n",
       "4.1      125\n",
       "3.8      111\n",
       "3.3       47\n",
       "3.9       41\n",
       "2.5       31\n",
       "3.6       19\n",
       "3.4        5\n",
       "1.5        4\n",
       "2.8        3\n",
       "3.2        2\n",
       "2.7        2\n",
       "2.3        1\n",
       "Name: avg_rating_by_driver, dtype: int64"
      ]
     },
     "execution_count": 34,
     "metadata": {},
     "output_type": "execute_result"
    }
   ],
   "source": [
    "retention['avg_rating_by_driver'].value_counts()"
   ]
  },
  {
   "cell_type": "markdown",
   "id": "6f77530a",
   "metadata": {},
   "source": [
    "For the ratings columns, 5.0 seems to be the overwhelming majority, and the average is expected to be quite high. For the phone column, iphone outweighs android by about 100%. I think filling the rating columns with the average values, but for the phone column this might not be as easy. I think dropping the rows missing phone data will be the best option, since there is about a 1/3 chance that the user is using an android and simply filling in iPhone could be just plain wrong."
   ]
  },
  {
   "cell_type": "code",
   "execution_count": 35,
   "id": "1443134f",
   "metadata": {},
   "outputs": [],
   "source": [
    "retention['avg_rating_by_driver'].fillna(value = retention['avg_rating_by_driver'].mean(), inplace = True)\n",
    "retention['avg_rating_of_driver'].fillna(value = retention['avg_rating_of_driver'].mean(), inplace = True)"
   ]
  },
  {
   "cell_type": "code",
   "execution_count": 36,
   "id": "d825af38",
   "metadata": {},
   "outputs": [],
   "source": [
    "retention.dropna(subset = 'phone', inplace = True)"
   ]
  },
  {
   "cell_type": "code",
   "execution_count": 37,
   "id": "1652d67d",
   "metadata": {},
   "outputs": [
    {
     "data": {
      "text/plain": [
       "city                      0\n",
       "trips_in_first_30_days    0\n",
       "signup_date               0\n",
       "avg_rating_of_driver      0\n",
       "avg_surge                 0\n",
       "last_trip_date            0\n",
       "phone                     0\n",
       "surge_pct                 0\n",
       "ultimate_black_user       0\n",
       "weekday_pct               0\n",
       "avg_dist                  0\n",
       "avg_rating_by_driver      0\n",
       "retained                  0\n",
       "dtype: int64"
      ]
     },
     "execution_count": 37,
     "metadata": {},
     "output_type": "execute_result"
    }
   ],
   "source": [
    "retention.isna().sum()"
   ]
  },
  {
   "cell_type": "markdown",
   "id": "c297efa2",
   "metadata": {},
   "source": [
    "I now want to look at the distributions of the variables to make sure that there are no values that do not make sense"
   ]
  },
  {
   "cell_type": "code",
   "execution_count": 38,
   "id": "ce78e696",
   "metadata": {},
   "outputs": [
    {
     "data": {
      "image/png": "[encoded data removed]",
      "text/plain": [
       "<Figure size 1080x720 with 12 Axes>"
      ]
     },
     "metadata": {
      "needs_background": "light"
     },
     "output_type": "display_data"
    }
   ],
   "source": [
    "retention.hist(figsize = (15, 10))\n",
    "plt.subplots_adjust(hspace=0.8, wspace = 0.5);"
   ]
  },
  {
   "cell_type": "markdown",
   "id": "b7a9e38d",
   "metadata": {},
   "source": [
    "All seems correct there."
   ]
  },
  {
   "cell_type": "markdown",
   "id": "bfdb142d",
   "metadata": {},
   "source": [
    "How many different cities are represented by the data?"
   ]
  },
  {
   "cell_type": "code",
   "execution_count": 39,
   "id": "89217ea5",
   "metadata": {},
   "outputs": [
    {
     "data": {
      "text/plain": [
       "Winterfell        23125\n",
       "Astapor           16413\n",
       "King's Landing    10066\n",
       "Name: city, dtype: int64"
      ]
     },
     "execution_count": 39,
     "metadata": {},
     "output_type": "execute_result"
    }
   ],
   "source": [
    "retention['city'].value_counts()"
   ]
  },
  {
   "cell_type": "markdown",
   "id": "9de9be5f",
   "metadata": {},
   "source": [
    "Just three. How many Ultimate Black users were there?"
   ]
  },
  {
   "cell_type": "code",
   "execution_count": 40,
   "id": "0479e318",
   "metadata": {},
   "outputs": [
    {
     "data": {
      "text/plain": [
       "18612"
      ]
     },
     "execution_count": 40,
     "metadata": {},
     "output_type": "execute_result"
    }
   ],
   "source": [
    "retention['ultimate_black_user'].sum()"
   ]
  },
  {
   "cell_type": "markdown",
   "id": "27c9b3e8",
   "metadata": {},
   "source": [
    "Close to the same number that were retained. What is the average surge and surge for users that were retained vs users that weren't"
   ]
  },
  {
   "cell_type": "code",
   "execution_count": 41,
   "id": "0f6e9ec5",
   "metadata": {},
   "outputs": [
    {
     "data": {
      "text/plain": [
       "1.0756887466459912"
      ]
     },
     "execution_count": 41,
     "metadata": {},
     "output_type": "execute_result"
    }
   ],
   "source": [
    "retention[retention['retained'] == 0]['avg_surge'].mean()"
   ]
  },
  {
   "cell_type": "code",
   "execution_count": 42,
   "id": "4f3879a6",
   "metadata": {},
   "outputs": [
    {
     "data": {
      "text/plain": [
       "1.0738342884687653"
      ]
     },
     "execution_count": 42,
     "metadata": {},
     "output_type": "execute_result"
    }
   ],
   "source": [
    "retention[retention['retained'] == 1]['avg_surge'].mean()"
   ]
  },
  {
   "cell_type": "markdown",
   "id": "972ec9ce",
   "metadata": {},
   "source": [
    "Let's look at correlations."
   ]
  },
  {
   "cell_type": "code",
   "execution_count": 43,
   "id": "595a6d66",
   "metadata": {},
   "outputs": [
    {
     "data": {
      "image/png": "[encoded data removed]",
      "text/plain": [
       "<Figure size 864x720 with 2 Axes>"
      ]
     },
     "metadata": {
      "needs_background": "light"
     },
     "output_type": "display_data"
    }
   ],
   "source": [
    "plt.subplots(figsize=(12,10))\n",
    "sns.heatmap(retention.corr());"
   ]
  },
  {
   "cell_type": "markdown",
   "id": "4b1147ba",
   "metadata": {},
   "source": [
    "There appears to be very little auto-correlation in our data. I now want to try PCA with our float and int values and look at were the variance in our data is."
   ]
  },
  {
   "cell_type": "code",
   "execution_count": 44,
   "id": "9ee605dd",
   "metadata": {},
   "outputs": [],
   "source": [
    "retention_scaled = scale(retention[['trips_in_first_30_days', 'avg_rating_of_driver', 'avg_surge', 'surge_pct', \n",
    "                                   'weekday_pct', 'avg_dist', 'avg_rating_by_driver']])"
   ]
  },
  {
   "cell_type": "code",
   "execution_count": 45,
   "id": "136515b0",
   "metadata": {},
   "outputs": [
    {
     "data": {
      "image/png": "[encoded data removed]",
      "text/plain": [
       "<Figure size 720x432 with 1 Axes>"
      ]
     },
     "metadata": {
      "needs_background": "light"
     },
     "output_type": "display_data"
    }
   ],
   "source": [
    "retention_pca = PCA().fit(retention_scaled)\n",
    "plt.subplots(figsize=(10, 6))\n",
    "plt.plot(retention_pca.explained_variance_ratio_.cumsum())\n",
    "plt.xlabel('Component #')\n",
    "plt.ylabel('Cumulative ratio variance')\n",
    "plt.title('Cumulative variance ratio');"
   ]
  },
  {
   "cell_type": "markdown",
   "id": "1067d2b3",
   "metadata": {},
   "source": [
    "The variance is explained fairly evenly by all factors. I think now I will create dummy variables for the 'city' and 'phone' columns, split the data, and begin modeling."
   ]
  },
  {
   "cell_type": "code",
   "execution_count": 46,
   "id": "aa5f2218",
   "metadata": {},
   "outputs": [],
   "source": [
    "retention_modeling = retention.drop(columns = ['signup_date', 'last_trip_date'])"
   ]
  },
  {
   "cell_type": "code",
   "execution_count": 47,
   "id": "55139848",
   "metadata": {},
   "outputs": [],
   "source": [
    "retention_modeling = pd.get_dummies(retention_modeling, columns = ['city', 'phone'])"
   ]
  },
  {
   "cell_type": "code",
   "execution_count": 48,
   "id": "84e07e1f",
   "metadata": {},
   "outputs": [
    {
     "data": {
      "text/html": [
       "<div>\n",
       "<style scoped>\n",
       "    .dataframe tbody tr th:only-of-type {\n",
       "        vertical-align: middle;\n",
       "    }\n",
       "\n",
       "    .dataframe tbody tr th {\n",
       "        vertical-align: top;\n",
       "    }\n",
       "\n",
       "    .dataframe thead th {\n",
       "        text-align: right;\n",
       "    }\n",
       "</style>\n",
       "<table border=\"1\" class=\"dataframe\">\n",
       "  <thead>\n",
       "    <tr style=\"text-align: right;\">\n",
       "      <th></th>\n",
       "      <th>trips_in_first_30_days</th>\n",
       "      <th>avg_rating_of_driver</th>\n",
       "      <th>avg_surge</th>\n",
       "      <th>surge_pct</th>\n",
       "      <th>ultimate_black_user</th>\n",
       "      <th>weekday_pct</th>\n",
       "      <th>avg_dist</th>\n",
       "      <th>avg_rating_by_driver</th>\n",
       "      <th>retained</th>\n",
       "      <th>city_Astapor</th>\n",
       "      <th>city_King's Landing</th>\n",
       "      <th>city_Winterfell</th>\n",
       "      <th>phone_Android</th>\n",
       "      <th>phone_iPhone</th>\n",
       "    </tr>\n",
       "  </thead>\n",
       "  <tbody>\n",
       "    <tr>\n",
       "      <th>0</th>\n",
       "      <td>4</td>\n",
       "      <td>4.7</td>\n",
       "      <td>1.10</td>\n",
       "      <td>15.4</td>\n",
       "      <td>True</td>\n",
       "      <td>46.2</td>\n",
       "      <td>3.67</td>\n",
       "      <td>5.0</td>\n",
       "      <td>1</td>\n",
       "      <td>0</td>\n",
       "      <td>1</td>\n",
       "      <td>0</td>\n",
       "      <td>0</td>\n",
       "      <td>1</td>\n",
       "    </tr>\n",
       "    <tr>\n",
       "      <th>1</th>\n",
       "      <td>0</td>\n",
       "      <td>5.0</td>\n",
       "      <td>1.00</td>\n",
       "      <td>0.0</td>\n",
       "      <td>False</td>\n",
       "      <td>50.0</td>\n",
       "      <td>8.26</td>\n",
       "      <td>5.0</td>\n",
       "      <td>0</td>\n",
       "      <td>1</td>\n",
       "      <td>0</td>\n",
       "      <td>0</td>\n",
       "      <td>1</td>\n",
       "      <td>0</td>\n",
       "    </tr>\n",
       "    <tr>\n",
       "      <th>2</th>\n",
       "      <td>3</td>\n",
       "      <td>4.3</td>\n",
       "      <td>1.00</td>\n",
       "      <td>0.0</td>\n",
       "      <td>False</td>\n",
       "      <td>100.0</td>\n",
       "      <td>0.77</td>\n",
       "      <td>5.0</td>\n",
       "      <td>0</td>\n",
       "      <td>1</td>\n",
       "      <td>0</td>\n",
       "      <td>0</td>\n",
       "      <td>0</td>\n",
       "      <td>1</td>\n",
       "    </tr>\n",
       "    <tr>\n",
       "      <th>3</th>\n",
       "      <td>9</td>\n",
       "      <td>4.6</td>\n",
       "      <td>1.14</td>\n",
       "      <td>20.0</td>\n",
       "      <td>True</td>\n",
       "      <td>80.0</td>\n",
       "      <td>2.36</td>\n",
       "      <td>4.9</td>\n",
       "      <td>1</td>\n",
       "      <td>0</td>\n",
       "      <td>1</td>\n",
       "      <td>0</td>\n",
       "      <td>0</td>\n",
       "      <td>1</td>\n",
       "    </tr>\n",
       "    <tr>\n",
       "      <th>4</th>\n",
       "      <td>14</td>\n",
       "      <td>4.4</td>\n",
       "      <td>1.19</td>\n",
       "      <td>11.8</td>\n",
       "      <td>False</td>\n",
       "      <td>82.4</td>\n",
       "      <td>3.13</td>\n",
       "      <td>4.9</td>\n",
       "      <td>0</td>\n",
       "      <td>0</td>\n",
       "      <td>0</td>\n",
       "      <td>1</td>\n",
       "      <td>1</td>\n",
       "      <td>0</td>\n",
       "    </tr>\n",
       "  </tbody>\n",
       "</table>\n",
       "</div>"
      ],
      "text/plain": [
       "   trips_in_first_30_days  avg_rating_of_driver  avg_surge  surge_pct  \\\n",
       "0                       4                   4.7       1.10       15.4   \n",
       "1                       0                   5.0       1.00        0.0   \n",
       "2                       3                   4.3       1.00        0.0   \n",
       "3                       9                   4.6       1.14       20.0   \n",
       "4                      14                   4.4       1.19       11.8   \n",
       "\n",
       "   ultimate_black_user  weekday_pct  avg_dist  avg_rating_by_driver  retained  \\\n",
       "0                 True         46.2      3.67                   5.0         1   \n",
       "1                False         50.0      8.26                   5.0         0   \n",
       "2                False        100.0      0.77                   5.0         0   \n",
       "3                 True         80.0      2.36                   4.9         1   \n",
       "4                False         82.4      3.13                   4.9         0   \n",
       "\n",
       "   city_Astapor  city_King's Landing  city_Winterfell  phone_Android  \\\n",
       "0             0                    1                0              0   \n",
       "1             1                    0                0              1   \n",
       "2             1                    0                0              0   \n",
       "3             0                    1                0              0   \n",
       "4             0                    0                1              1   \n",
       "\n",
       "   phone_iPhone  \n",
       "0             1  \n",
       "1             0  \n",
       "2             1  \n",
       "3             1  \n",
       "4             0  "
      ]
     },
     "execution_count": 48,
     "metadata": {},
     "output_type": "execute_result"
    }
   ],
   "source": [
    "retention_modeling.head()"
   ]
  },
  {
   "cell_type": "code",
   "execution_count": 49,
   "id": "5bb7182d",
   "metadata": {},
   "outputs": [],
   "source": [
    "X_train, X_test, y_train, y_test = train_test_split(retention_modeling.drop(columns='retained'), \n",
    "                                                    retention_modeling.retained, test_size=0.3, \n",
    "                                                    random_state=47)"
   ]
  },
  {
   "cell_type": "markdown",
   "id": "ea392c61",
   "metadata": {},
   "source": [
    "Before jumping into the model, I'll get a baseline performance using sklearns dummy classifier"
   ]
  },
  {
   "cell_type": "code",
   "execution_count": 50,
   "id": "3b0cd7f5",
   "metadata": {},
   "outputs": [
    {
     "name": "stdout",
     "output_type": "stream",
     "text": [
      "0.6234951903692184\n",
      "              precision    recall  f1-score   support\n",
      "\n",
      "           0       1.00      0.62      0.77     34722\n",
      "           1       0.00      0.00      0.00         0\n",
      "\n",
      "    accuracy                           0.62     34722\n",
      "   macro avg       0.50      0.31      0.38     34722\n",
      "weighted avg       1.00      0.62      0.77     34722\n",
      "\n"
     ]
    }
   ],
   "source": [
    "dumb_class = DummyClassifier(strategy='most_frequent')\n",
    "dumb_class.fit(X_train, y_train)\n",
    "print(dumb_class.score(X_train, y_train))\n",
    "y_pred = dumb_class.predict(X_train)\n",
    "print(classification_report(y_pred, y_train))"
   ]
  },
  {
   "cell_type": "markdown",
   "id": "61ace1db",
   "metadata": {},
   "source": [
    "Looks like our model needs to beat an accuracy of 62%. I'm choosing to go with a random forest classifier for my model. I've used it in the past so I am quite comfortable with it and I believe it is powerful enough to do this task with relatively low demand."
   ]
  },
  {
   "cell_type": "code",
   "execution_count": 51,
   "id": "2c662b65",
   "metadata": {},
   "outputs": [
    {
     "data": {
      "text/plain": [
       "dict_keys(['memory', 'steps', 'verbose', 'standardscaler', 'pca', 'randomforestclassifier', 'standardscaler__copy', 'standardscaler__with_mean', 'standardscaler__with_std', 'pca__copy', 'pca__iterated_power', 'pca__n_components', 'pca__random_state', 'pca__svd_solver', 'pca__tol', 'pca__whiten', 'randomforestclassifier__bootstrap', 'randomforestclassifier__ccp_alpha', 'randomforestclassifier__class_weight', 'randomforestclassifier__criterion', 'randomforestclassifier__max_depth', 'randomforestclassifier__max_features', 'randomforestclassifier__max_leaf_nodes', 'randomforestclassifier__max_samples', 'randomforestclassifier__min_impurity_decrease', 'randomforestclassifier__min_samples_leaf', 'randomforestclassifier__min_samples_split', 'randomforestclassifier__min_weight_fraction_leaf', 'randomforestclassifier__n_estimators', 'randomforestclassifier__n_jobs', 'randomforestclassifier__oob_score', 'randomforestclassifier__random_state', 'randomforestclassifier__verbose', 'randomforestclassifier__warm_start'])"
      ]
     },
     "execution_count": 51,
     "metadata": {},
     "output_type": "execute_result"
    }
   ],
   "source": [
    "RF = RandomForestClassifier(random_state=47)\n",
    "RF_pipe = make_pipeline(StandardScaler(), PCA(), RF)\n",
    "RF_pipe.get_params().keys()"
   ]
  },
  {
   "cell_type": "code",
   "execution_count": 52,
   "id": "c7d03e15",
   "metadata": {},
   "outputs": [],
   "source": [
    "n_components = range(5, 15)\n",
    "n_estimators = range(10, 300, 10)\n",
    "max_depth = range(3, 9)\n",
    "grid_params = {'standardscaler': [StandardScaler(), MinMaxScaler()],\n",
    "             'pca__n_components': n_components,\n",
    "              'randomforestclassifier__n_estimators': n_estimators,\n",
    "              'randomforestclassifier__max_depth': max_depth}\n",
    "RF_cv = RandomizedSearchCV(RF_pipe, param_distributions = grid_params, n_iter = 100, cv = 5, n_jobs = -1, scoring = 'accuracy')"
   ]
  },
  {
   "cell_type": "code",
   "execution_count": 53,
   "id": "0b55805b",
   "metadata": {
    "scrolled": true
   },
   "outputs": [
    {
     "data": {
      "text/plain": [
       "{'standardscaler': MinMaxScaler(),\n",
       " 'randomforestclassifier__n_estimators': 140,\n",
       " 'randomforestclassifier__max_depth': 8,\n",
       " 'pca__n_components': 13}"
      ]
     },
     "execution_count": 53,
     "metadata": {},
     "output_type": "execute_result"
    }
   ],
   "source": [
    "RF_cv.fit(X_train, y_train)\n",
    "RF_cv.best_params_"
   ]
  },
  {
   "cell_type": "code",
   "execution_count": 54,
   "id": "7c26184f",
   "metadata": {},
   "outputs": [
    {
     "name": "stdout",
     "output_type": "stream",
     "text": [
      "-0.7756177736195851 0.0033450266122450993\n"
     ]
    }
   ],
   "source": [
    "cv_results = cross_validate(RF_cv.best_estimator_, X_train, y_train, scoring='accuracy', cv=5)\n",
    "RF_train_acc_mean = np.mean(-1 * cv_results['test_score'])\n",
    "RF_train_acc_std = np.std(-1 * cv_results['test_score'])\n",
    "print(RF_train_acc_mean, RF_train_acc_std)"
   ]
  },
  {
   "cell_type": "code",
   "execution_count": 55,
   "id": "ee0e57c6",
   "metadata": {},
   "outputs": [
    {
     "data": {
      "text/plain": [
       "Pipeline(steps=[('minmaxscaler', MinMaxScaler()), ('pca', PCA(n_components=11)),\n",
       "                ('randomforestclassifier',\n",
       "                 RandomForestClassifier(max_depth=8, n_estimators=120))])"
      ]
     },
     "execution_count": 55,
     "metadata": {},
     "output_type": "execute_result"
    }
   ],
   "source": [
    "Winning_model = make_pipeline(MinMaxScaler(), PCA(n_components = 11), \n",
    "                              RandomForestClassifier(n_estimators = 120, max_depth = 8))\n",
    "Winning_model.fit(X_train, y_train)"
   ]
  },
  {
   "cell_type": "code",
   "execution_count": 56,
   "id": "08045ebe",
   "metadata": {},
   "outputs": [
    {
     "data": {
      "text/plain": [
       "array([0.16336285, 0.06477699, 0.13987523, 0.09367262, 0.16808964,\n",
       "       0.08789639, 0.03536549, 0.19331056, 0.01584756, 0.01346812,\n",
       "       0.02433456])"
      ]
     },
     "execution_count": 56,
     "metadata": {},
     "output_type": "execute_result"
    }
   ],
   "source": [
    "Winning_model['randomforestclassifier'].feature_importances_"
   ]
  },
  {
   "cell_type": "markdown",
   "id": "0267b41c",
   "metadata": {},
   "source": [
    "The features trips_in_first_30_days, avg_surge, ultimate_black_user, avg_rating_by_driver appear to be the most important to the model"
   ]
  },
  {
   "cell_type": "code",
   "execution_count": 57,
   "id": "562cda9a",
   "metadata": {},
   "outputs": [
    {
     "name": "stdout",
     "output_type": "stream",
     "text": [
      "              precision    recall  f1-score   support\n",
      "\n",
      "           0       0.87      0.81      0.84     23317\n",
      "           1       0.66      0.76      0.71     11405\n",
      "\n",
      "    accuracy                           0.79     34722\n",
      "   macro avg       0.77      0.78      0.77     34722\n",
      "weighted avg       0.80      0.79      0.80     34722\n",
      "\n"
     ]
    }
   ],
   "source": [
    "print(classification_report(Winning_model.predict(X_train), y_train))"
   ]
  },
  {
   "cell_type": "code",
   "execution_count": 58,
   "id": "3821b90a",
   "metadata": {},
   "outputs": [
    {
     "name": "stdout",
     "output_type": "stream",
     "text": [
      "              precision    recall  f1-score   support\n",
      "\n",
      "           0       0.85      0.79      0.82      9976\n",
      "           1       0.63      0.72      0.67      4906\n",
      "\n",
      "    accuracy                           0.77     14882\n",
      "   macro avg       0.74      0.76      0.75     14882\n",
      "weighted avg       0.78      0.77      0.77     14882\n",
      "\n"
     ]
    }
   ],
   "source": [
    "print(classification_report(Winning_model.predict(X_test), y_test))"
   ]
  },
  {
   "cell_type": "markdown",
   "id": "3d7e3d07",
   "metadata": {},
   "source": [
    "As you can see, this model performs much better than the dummy classifer used as a baseline."
   ]
  }
 ],
 "metadata": {
  "kernelspec": {
   "display_name": "Python 3 (ipykernel)",
   "language": "python",
   "name": "python3"
  },
  "language_info": {
   "codemirror_mode": {
    "name": "ipython",
    "version": 3
   },
   "file_extension": ".py",
   "mimetype": "text/x-python",
   "name": "python",
   "nbconvert_exporter": "python",
   "pygments_lexer": "ipython3",
   "version": "3.9.12"
  }
 },
 "nbformat": 4,
 "nbformat_minor": 5
}
